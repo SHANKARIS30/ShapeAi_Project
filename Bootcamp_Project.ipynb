{
  "nbformat": 4,
  "nbformat_minor": 0,
  "metadata": {
    "colab": {
      "name": "Bootcamp_Project.ipynb",
      "provenance": [],
      "collapsed_sections": []
    },
    "kernelspec": {
      "name": "python3",
      "display_name": "Python 3"
    },
    "language_info": {
      "name": "python"
    }
  },
  "cells": [
    {
      "cell_type": "code",
      "metadata": {
        "id": "E2FqmdxoOVxN"
      },
      "source": [
        "import requests\n",
        "from datetime import datetime"
      ],
      "execution_count": 46,
      "outputs": []
    },
    {
      "cell_type": "code",
      "metadata": {
        "colab": {
          "base_uri": "https://localhost:8080/"
        },
        "id": "LdGkWndwOmgz",
        "outputId": "eca3650d-76e7-4c7e-bfc5-227ff650aee6"
      },
      "source": [
        "api='15b1bf018a3b9da74d0df5a5277f7b74'\n",
        "location=input(\"Enter the city name : \")\n",
        "link=\"https://api.openweathermap.org/data/2.5/weather?q=\"+location+\"&appid=\"+api \n",
        "api_link=requests.get(link)\n",
        "data=api_link.json()\n",
        "temp=((data['main']['temp'])-273.15)\n",
        "weather=data['weather'][0]['description']\n",
        "hmdt=data['main']['humidity']\n",
        "wind_spd=data['wind']['speed']\n",
        "dt=datetime.now().strftime(\"%d %b %Y | %I:%M:%S %p\")\n"
      ],
      "execution_count": 51,
      "outputs": [
        {
          "output_type": "stream",
          "text": [
            "Enter the city name : ranchi\n"
          ],
          "name": "stdout"
        }
      ]
    },
    {
      "cell_type": "code",
      "metadata": {
        "colab": {
          "base_uri": "https://localhost:8080/"
        },
        "id": "oikShNEzT5lA",
        "outputId": "a5832ccc-8082-480c-97ed-f51d9873c5dc"
      },
      "source": [
        "print(\"----------------------------------------------------------\")\n",
        "print(\"Weather Stats for - {} || {}\".format(location.upper(),dt))\n",
        "print(\"----------------------------------------------------------\")\n",
        "print(\"Current temperature : {:.2f} deg C\".format(temp))\n",
        "print(\"Current weather desc : \",weather)\n",
        "print(\"Current Humidity : \",hmdt,'%')\n",
        "print(\"Current wind speed : \",wind_spd,'kmph')"
      ],
      "execution_count": 52,
      "outputs": [
        {
          "output_type": "stream",
          "text": [
            "----------------------------------------------------------\n",
            "Weather Stats for - RANCHI || 23 Jun 2021 | 10:53:57 AM\n",
            "----------------------------------------------------------\n",
            "Current temperature : 27.06 deg C\n",
            "Current weather desc :  broken clouds\n",
            "Current Humidity :  83 %\n",
            "Current wind speed :  3.09 kmph\n"
          ],
          "name": "stdout"
        }
      ]
    },
    {
      "cell_type": "code",
      "metadata": {
        "id": "kYhsWcv3ZBbv"
      },
      "source": [
        "p=\"Weather Stats for - {} || {}\".format(location.upper(),dt)\n",
        "a=\"\\n  Current temperature : {:.2f} deg C\\n\".format(temp)+\"  Current weather desc : \"+str(weather)+\"\\n\"+\"  Current Humidity : \"+str(hmdt)+'%'+\"\\n\"+\"  Current wind speed : \"+str(wind_spd)+'kmph\\n'"
      ],
      "execution_count": 53,
      "outputs": []
    },
    {
      "cell_type": "code",
      "metadata": {
        "id": "u0IehevZXwrQ"
      },
      "source": [
        "f = open(\"weatherdata.txt\", \"a\")\n",
        "f.write(p)\n",
        "f.write(a)\n",
        "f.close()"
      ],
      "execution_count": 54,
      "outputs": []
    }
  ]
}